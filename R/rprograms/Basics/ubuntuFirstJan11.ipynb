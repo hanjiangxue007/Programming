{
 "cells": [
  {
   "cell_type": "code",
   "execution_count": 1,
   "metadata": {
    "collapsed": false
   },
   "outputs": [
    {
     "name": "stdout",
     "output_type": "stream",
     "text": [
      "ubuntu first notepad,jan 11, 2016\n",
      "\n"
     ]
    }
   ],
   "source": [
    "print(\"ubuntu first notepad,jan 11, 2016\\n\")"
   ]
  },
  {
   "cell_type": "code",
   "execution_count": 2,
   "metadata": {
    "collapsed": false
   },
   "outputs": [
    {
     "name": "stdout",
     "output_type": "stream",
     "text": [
      "hello\n"
     ]
    }
   ],
   "source": [
    "import sys,numpy\n",
    "\n",
    "\n",
    "print ('hello')\n"
   ]
  },
  {
   "cell_type": "code",
   "execution_count": 4,
   "metadata": {
    "collapsed": false
   },
   "outputs": [
    {
     "data": {
      "text/plain": [
       "5"
      ]
     },
     "execution_count": 4,
     "metadata": {},
     "output_type": "execute_result"
    }
   ],
   "source": [
    "x=5\n",
    "x"
   ]
  },
  {
   "cell_type": "code",
   "execution_count": 5,
   "metadata": {
    "collapsed": true
   },
   "outputs": [],
   "source": [
    "y=6"
   ]
  },
  {
   "cell_type": "code",
   "execution_count": 6,
   "metadata": {
    "collapsed": false
   },
   "outputs": [
    {
     "data": {
      "text/plain": [
       "11"
      ]
     },
     "execution_count": 6,
     "metadata": {},
     "output_type": "execute_result"
    }
   ],
   "source": [
    "x+y\n"
   ]
  },
  {
   "cell_type": "code",
   "execution_count": 8,
   "metadata": {
    "collapsed": true
   },
   "outputs": [],
   "source": [
    "%load?\n"
   ]
  },
  {
   "cell_type": "code",
   "execution_count": 9,
   "metadata": {
    "collapsed": false
   },
   "outputs": [
    {
     "name": "stdout",
     "output_type": "stream",
     "text": [
      "\u001b[0m\u001b[01;34mdataManipulation\u001b[0m/        \u001b[01;32mlogictry.r\u001b[0m*           \u001b[01;32mtype.csv\u001b[0m*\r\n",
      "\u001b[01;34mdataTypes\u001b[0m/               matrix.dat            ubuntuFirstJan11.ipynb\r\n",
      "\u001b[01;32mdataTypes2.r\u001b[0m*            \u001b[01;32mnonASCII.r\u001b[0m*           \u001b[01;32mWebsitesToLearnR.txt\u001b[0m*\r\n",
      "\u001b[01;32meg1.r\u001b[0m*                   \u001b[01;32mProgrammingBasics.R\u001b[0m*  \u001b[01;32mzcat.r\u001b[0m*\r\n",
      "\u001b[01;32meg2.r\u001b[0m*                   \u001b[01;32mrlist.r\u001b[0m*              \u001b[01;32mzformula2.r\u001b[0m*\r\n",
      "\u001b[01;34mfile\u001b[0m/                    \u001b[01;32mrmatrix.r\u001b[0m*            \u001b[01;32mzformula.r\u001b[0m*\r\n",
      "\u001b[01;34mformatR\u001b[0m/                 \u001b[01;32mrOperators.tiff\u001b[0m*      \u001b[01;32mzpaste.r\u001b[0m*\r\n",
      "\u001b[01;32mfunctions.r\u001b[0m*             \u001b[01;32mrvector.r\u001b[0m*            \u001b[01;32mzprint.r\u001b[0m*\r\n",
      "\u001b[01;32mhelloWorld.r\u001b[0m*            \u001b[01;34mScript\u001b[0m/               \u001b[01;32mzsprintf.r\u001b[0m*\r\n",
      "\u001b[01;32mInstallingPACKAGES.txt\u001b[0m*  \u001b[01;32mstring.r\u001b[0m*\r\n"
     ]
    }
   ],
   "source": [
    "ls\n"
   ]
  },
  {
   "cell_type": "code",
   "execution_count": 3,
   "metadata": {
    "collapsed": false
   },
   "outputs": [
    {
     "data": {
      "text/plain": [
       "7"
      ]
     },
     "execution_count": 3,
     "metadata": {},
     "output_type": "execute_result"
    }
   ],
   "source": [
    "3+4\n"
   ]
  }
 ],
 "metadata": {
  "kernelspec": {
   "display_name": "Python 3",
   "language": "python",
   "name": "python3"
  },
  "language_info": {
   "codemirror_mode": {
    "name": "ipython",
    "version": 3
   },
   "file_extension": ".py",
   "mimetype": "text/x-python",
   "name": "python",
   "nbconvert_exporter": "python",
   "pygments_lexer": "ipython3",
   "version": "3.4.3+"
  }
 },
 "nbformat": 4,
 "nbformat_minor": 0
}
