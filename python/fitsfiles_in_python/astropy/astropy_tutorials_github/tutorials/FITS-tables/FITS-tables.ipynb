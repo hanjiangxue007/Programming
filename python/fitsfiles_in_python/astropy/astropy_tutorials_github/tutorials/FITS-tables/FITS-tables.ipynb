{
 "metadata": {
  "astropy-tutorials": {
   "author": "Lia R. Corrales <lia@astro.columbia.edu>",
   "date": "January 2014",
   "description": "astropy.utils.data to download the file, astropy.io.fits to open and view the file, matplotlib for making both 1D and 2D histograms of the data.",
   "link_name": "Viewing and manipulating data from FITS tables",
   "name": "",
   "published": true
  },
  "signature": "sha256:a70c090b1d7a9465e61834c7995c5ccfb99827bcab5fda45ee037c39b8f16b73"
 },
 "nbformat": 3,
 "nbformat_minor": 0,
 "worksheets": [
  {
   "cells": [
    {
     "cell_type": "code",
     "collapsed": false,
     "input": [
      "import numpy as np\n",
      "\n",
      "# Set up matplotlib and use a nicer set of plot parameters\n",
      "%config InlineBackend.rc = {}\n",
      "import matplotlib\n",
      "matplotlib.rc_file(\"../../templates/matplotlibrc\")\n",
      "import matplotlib.pyplot as plt\n",
      "%matplotlib inline"
     ],
     "language": "python",
     "metadata": {},
     "outputs": []
    },
    {
     "cell_type": "markdown",
     "metadata": {},
     "source": [
      "The following line is needed to download the example FITS files used in this tutorial."
     ]
    },
    {
     "cell_type": "code",
     "collapsed": false,
     "input": [
      "from astropy.utils.data import download_file"
     ],
     "language": "python",
     "metadata": {},
     "outputs": []
    },
    {
     "cell_type": "heading",
     "level": 1,
     "metadata": {},
     "source": [
      "Viewing and manipulating data from FITS tables"
     ]
    },
    {
     "cell_type": "code",
     "collapsed": false,
     "input": [
      "from astropy.io import fits"
     ],
     "language": "python",
     "metadata": {},
     "outputs": []
    },
    {
     "cell_type": "markdown",
     "metadata": {},
     "source": [
      "FITS files can often contain large amount of multi-dimensional data and tables.  In this particular example, I will open a FITS file with information from Chandra's HETG-S instrument."
     ]
    },
    {
     "cell_type": "code",
     "collapsed": false,
     "input": [
      "event_filename = download_file( 'http://data.astropy.org/tutorials/FITS-tables/chandra_events.fits', cache=True )"
     ],
     "language": "python",
     "metadata": {},
     "outputs": []
    },
    {
     "cell_type": "heading",
     "level": 2,
     "metadata": {},
     "source": [
      "Opening the FITS file and viewing table contents"
     ]
    },
    {
     "cell_type": "markdown",
     "metadata": {},
     "source": [
      "Since the file is big, I will open with `memmap=True` to prevent RAM storage issues."
     ]
    },
    {
     "cell_type": "code",
     "collapsed": false,
     "input": [
      "pha_list = fits.open(event_filename, memmap=True)"
     ],
     "language": "python",
     "metadata": {},
     "outputs": []
    },
    {
     "cell_type": "code",
     "collapsed": false,
     "input": [
      "pha_list.info()"
     ],
     "language": "python",
     "metadata": {},
     "outputs": []
    },
    {
     "cell_type": "markdown",
     "metadata": {},
     "source": [
      "I'm interested in reading EVENTS, which contains information about each X-ray photon that hit the detector."
     ]
    },
    {
     "cell_type": "markdown",
     "metadata": {},
     "source": [
      "To find out what information the table contains, I will print the column names."
     ]
    },
    {
     "cell_type": "code",
     "collapsed": false,
     "input": [
      "print(pha_list[1].columns)"
     ],
     "language": "python",
     "metadata": {},
     "outputs": []
    },
    {
     "cell_type": "markdown",
     "metadata": {},
     "source": [
      "Now I'll load the data into a separate variable."
     ]
    },
    {
     "cell_type": "code",
     "collapsed": false,
     "input": [
      "pha_data = pha_list[1].data"
     ],
     "language": "python",
     "metadata": {},
     "outputs": []
    },
    {
     "cell_type": "markdown",
     "metadata": {},
     "source": [
      "We can extract data from the table by referencing the column name."
     ]
    },
    {
     "cell_type": "markdown",
     "metadata": {},
     "source": [
      "For example, I'll make a histogram for the energy of each photon, giving us a sense for the spectrum (folded with the detector's efficiency)."
     ]
    },
    {
     "cell_type": "code",
     "collapsed": false,
     "input": [
      "NBINS = 500\n",
      "energy_hist = plt.hist(pha_data['energy'], NBINS)"
     ],
     "language": "python",
     "metadata": {},
     "outputs": []
    },
    {
     "cell_type": "heading",
     "level": 2,
     "metadata": {},
     "source": [
      "Making a 2-D histogram with some table data"
     ]
    },
    {
     "cell_type": "markdown",
     "metadata": {},
     "source": [
      "I will make an image of the zeroth order with a 2-D histogram of the angular coordinates in the table."
     ]
    },
    {
     "cell_type": "markdown",
     "metadata": {},
     "source": [
      "First, I create a boolean mask to isolate the zeroth order events"
     ]
    },
    {
     "cell_type": "code",
     "collapsed": false,
     "input": [
      "i_zero = pha_data['tg_m'] == 0"
     ],
     "language": "python",
     "metadata": {},
     "outputs": []
    },
    {
     "cell_type": "heading",
     "level": 3,
     "metadata": {},
     "source": [
      "Method 1: Use numpy to make a 2-D histogram and imshow to display it"
     ]
    },
    {
     "cell_type": "markdown",
     "metadata": {},
     "source": [
      "This method allowed me to create an image without stretching"
     ]
    },
    {
     "cell_type": "code",
     "collapsed": false,
     "input": [
      "NBINS = (100,100)\n",
      "\n",
      "img_zero, yedges, xedges = np.histogram2d(pha_data['tg_r'][i_zero], pha_data['tg_d'][i_zero], NBINS)\n",
      "\n",
      "extent = [xedges[0], xedges[-1], yedges[0], yedges[-1]]\n",
      "\n",
      "plt.imshow(img_zero, extent=extent, interpolation='nearest', cmap='gist_yarg', origin='lower')\n",
      "\n",
      "plt.xlabel('tg_d [degrees]')\n",
      "plt.ylabel('tg_r [degrees]')\n",
      "\n",
      "# To see more color maps\n",
      "# http://wiki.scipy.org/Cookbook/Matplotlib/Show_colormaps"
     ],
     "language": "python",
     "metadata": {},
     "outputs": []
    },
    {
     "cell_type": "heading",
     "level": 3,
     "metadata": {},
     "source": [
      "Method 2: Use hist2d with a log-normal color scheme"
     ]
    },
    {
     "cell_type": "code",
     "collapsed": false,
     "input": [
      "from matplotlib.colors import LogNorm"
     ],
     "language": "python",
     "metadata": {},
     "outputs": []
    },
    {
     "cell_type": "code",
     "collapsed": false,
     "input": [
      "NBINS = (100,100)\n",
      "img_zero_mpl = plt.hist2d(pha_data['tg_r'][i_zero], pha_data['tg_d'][i_zero], NBINS, cmap='jet', norm=LogNorm())\n",
      "\n",
      "cbar = plt.colorbar(ticks=[1.0,3.0,6.0])\n",
      "cbar.ax.set_yticklabels(['1','3','6'])\n",
      "\n",
      "plt.xlabel('tg_r [degrees]')\n",
      "plt.ylabel('tg_d [degrees]')"
     ],
     "language": "python",
     "metadata": {},
     "outputs": []
    },
    {
     "cell_type": "heading",
     "level": 2,
     "metadata": {},
     "source": [
      "Close the FITS file"
     ]
    },
    {
     "cell_type": "code",
     "collapsed": false,
     "input": [
      "pha_list.close()"
     ],
     "language": "python",
     "metadata": {},
     "outputs": []
    },
    {
     "cell_type": "heading",
     "level": 2,
     "metadata": {},
     "source": [
      "Exercises"
     ]
    },
    {
     "cell_type": "markdown",
     "metadata": {},
     "source": [
      "Make a scatter plot of the same data you histogrammed above.  The [plt.scatter](http://matplotlib.org/api/pyplot_api.html#matplotlib.pyplot.scatter) function is your friend for this.  Why might you want to use this instead of hist2d?"
     ]
    },
    {
     "cell_type": "code",
     "collapsed": false,
     "input": [],
     "language": "python",
     "metadata": {},
     "outputs": []
    },
    {
     "cell_type": "markdown",
     "metadata": {},
     "source": [
      "Try the same with the [plt.hexbin](http://matplotlib.org/api/pyplot_api.html#matplotlib.pyplot.hexbin) plotting function. Which do you think looks better for this kind of data?"
     ]
    },
    {
     "cell_type": "code",
     "collapsed": false,
     "input": [],
     "language": "python",
     "metadata": {},
     "outputs": []
    },
    {
     "cell_type": "markdown",
     "metadata": {},
     "source": [
      "Try making the same, but without sub-selecting on `'i_zero'`.  Which plots help you better understand the data now?  What if you try `'x'` and `'y'` instead of `'tg_r'` and `'tg_d'`?"
     ]
    },
    {
     "cell_type": "code",
     "collapsed": false,
     "input": [],
     "language": "python",
     "metadata": {},
     "outputs": []
    }
   ],
   "metadata": {}
  }
 ]
}